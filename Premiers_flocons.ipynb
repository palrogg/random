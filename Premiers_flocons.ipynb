{
 "cells": [
  {
   "cell_type": "markdown",
   "metadata": {},
   "source": [
    "# Premiers flocons\n",
    "\n",
    "Ce petit script parcourt un fichier de MétéoSuisse constitué d'une ligne par jour depuis 1980, avec un 1 pour \"flocons observés\" et un 0 pour \"pas de flocons observés\". La date du 11 août 2008 est une erreur (observation de grêle notée comme observation de neige)."
   ]
  },
  {
   "cell_type": "code",
   "execution_count": 1,
   "metadata": {
    "collapsed": true
   },
   "outputs": [],
   "source": [
    "import pandas as pd\n",
    "df = pd.read_csv('gve_neige.txt', sep=' ')"
   ]
  },
  {
   "cell_type": "code",
   "execution_count": 2,
   "metadata": {
    "collapsed": false
   },
   "outputs": [],
   "source": [
    "del df['Unnamed: 7']\n",
    "df.columns = ['STA','JAHR','MO','TG','HH','MM','908']"
   ]
  },
  {
   "cell_type": "code",
   "execution_count": 4,
   "metadata": {
    "collapsed": true
   },
   "outputs": [],
   "source": [
    "df_neige = df[df['908'] > 0]"
   ]
  },
  {
   "cell_type": "code",
   "execution_count": 5,
   "metadata": {
    "collapsed": false
   },
   "outputs": [
    {
     "name": "stdout",
     "output_type": "stream",
     "text": [
      "Premiers flocons tardifs pour l’année 1989\n",
      "Premiers flocons tardifs pour l’année 2006\n"
     ]
    },
    {
     "data": {
      "text/plain": [
       "[(1980, 11, 4),\n",
       " (1981, 11, 29),\n",
       " (1982, 11, 16),\n",
       " (1983, 12, 3),\n",
       " (1984, 12, 26),\n",
       " (1985, 11, 12),\n",
       " (1986, 12, 19),\n",
       " (1987, 12, 8),\n",
       " (1988, 11, 20),\n",
       " (1989, 1, 28),\n",
       " (1990, 11, 22),\n",
       " (1991, 12, 20),\n",
       " (1992, 12, 12),\n",
       " (1993, 11, 20),\n",
       " (1994, 12, 26),\n",
       " (1995, 11, 18),\n",
       " (1996, 11, 18),\n",
       " (1997, 12, 2),\n",
       " (1998, 11, 23),\n",
       " (1999, 11, 16),\n",
       " (2000, 12, 29),\n",
       " (2001, 11, 9),\n",
       " (2002, 12, 10),\n",
       " (2003, 11, 10),\n",
       " (2004, 11, 11),\n",
       " (2005, 11, 24),\n",
       " (2006, 1, 23),\n",
       " (2007, 11, 13),\n",
       " (2008, 8, 11),\n",
       " (2009, 12, 13),\n",
       " (2010, 11, 26),\n",
       " (2011, 12, 17),\n",
       " (2012, 10, 27),\n",
       " (2013, 11, 20),\n",
       " (2014, 12, 26),\n",
       " (2015, 11, 21),\n",
       " (2016, 11, 7)]"
      ]
     },
     "execution_count": 5,
     "metadata": {},
     "output_type": "execute_result"
    }
   ],
   "source": [
    "last_year = 1979\n",
    "ignore_year = 0\n",
    "date_collection = []\n",
    "\n",
    "for index, row in df_neige.iterrows():\n",
    "    if row['JAHR'] > last_year:\n",
    "        \n",
    "        if row['JAHR'] > last_year + 1: # on a sauté une année\n",
    "            if row['JAHR'] != ignore_year:\n",
    "                print('Premiers flocons tardifs pour l’année', row['JAHR']-1)\n",
    "                date_collection.append((row['JAHR']-1, row['MO'], row['TG']))\n",
    "                ignore_year = row['JAHR']\n",
    "                \n",
    "        if row['MO'] > 6: # cas standard\n",
    "            last_year = row['JAHR']\n",
    "            date_collection.append((row['JAHR'], row['MO'], row['TG']))\n",
    "        else:\n",
    "            pass\n",
    "        \n",
    "date_collection"
   ]
  },
  {
   "cell_type": "code",
   "execution_count": 6,
   "metadata": {
    "collapsed": false
   },
   "outputs": [],
   "source": [
    "df_export = pd.DataFrame(date_collection)"
   ]
  },
  {
   "cell_type": "code",
   "execution_count": 7,
   "metadata": {
    "collapsed": false
   },
   "outputs": [
    {
     "data": {
      "text/html": [
       "<div>\n",
       "<table border=\"1\" class=\"dataframe\">\n",
       "  <thead>\n",
       "    <tr style=\"text-align: right;\">\n",
       "      <th></th>\n",
       "      <th>Année</th>\n",
       "      <th>Mois</th>\n",
       "      <th>Jour</th>\n",
       "    </tr>\n",
       "  </thead>\n",
       "  <tbody>\n",
       "    <tr>\n",
       "      <th>0</th>\n",
       "      <td>1980</td>\n",
       "      <td>11</td>\n",
       "      <td>4</td>\n",
       "    </tr>\n",
       "    <tr>\n",
       "      <th>1</th>\n",
       "      <td>1981</td>\n",
       "      <td>11</td>\n",
       "      <td>29</td>\n",
       "    </tr>\n",
       "    <tr>\n",
       "      <th>2</th>\n",
       "      <td>1982</td>\n",
       "      <td>11</td>\n",
       "      <td>16</td>\n",
       "    </tr>\n",
       "    <tr>\n",
       "      <th>3</th>\n",
       "      <td>1983</td>\n",
       "      <td>12</td>\n",
       "      <td>3</td>\n",
       "    </tr>\n",
       "    <tr>\n",
       "      <th>4</th>\n",
       "      <td>1984</td>\n",
       "      <td>12</td>\n",
       "      <td>26</td>\n",
       "    </tr>\n",
       "  </tbody>\n",
       "</table>\n",
       "</div>"
      ],
      "text/plain": [
       "   Année  Mois  Jour\n",
       "0   1980    11     4\n",
       "1   1981    11    29\n",
       "2   1982    11    16\n",
       "3   1983    12     3\n",
       "4   1984    12    26"
      ]
     },
     "execution_count": 7,
     "metadata": {},
     "output_type": "execute_result"
    }
   ],
   "source": [
    "df_export.columns = ('Année', 'Mois', 'Jour')\n",
    "df_export.head()"
   ]
  },
  {
   "cell_type": "markdown",
   "metadata": {},
   "source": [
    "### On ajoute les mois en toutes lettres et un timestamp (pour les graphiques)"
   ]
  },
  {
   "cell_type": "code",
   "execution_count": 8,
   "metadata": {
    "collapsed": false
   },
   "outputs": [],
   "source": [
    "for i, row in df_export.iterrows():\n",
    "    # zfill + format, c'est pas beau, j'avoue\n",
    "    timestamp = \"{}-{}-{}\".format(row['Année'], str(row['Mois']).zfill(2), str(row['Jour']).zfill(2))\n",
    "    df_export.set_value(i, 'timestamp', timestamp)\n",
    "    \n",
    "    number = row['Mois']*30 + row['Jour']\n",
    "    if row['Mois'] < 6:\n",
    "        number += 365 # annee d'après\n",
    "    df_export.set_value(i, 'number', number)\n",
    "    "
   ]
  },
  {
   "cell_type": "code",
   "execution_count": 12,
   "metadata": {
    "collapsed": false
   },
   "outputs": [],
   "source": [
    "def get_month(value):\n",
    "    months = ['janvier', 'février', 'mars', 'avril', 'mai', 'juin', 'juillet', 'août', 'septembre', 'octobre', 'novembre', 'décembre']\n",
    "    return months[int(value)-1]\n",
    "df_export['Mois_str'] = df_export['Mois'].apply(get_month)"
   ]
  },
  {
   "cell_type": "code",
   "execution_count": 11,
   "metadata": {
    "collapsed": false
   },
   "outputs": [],
   "source": [
    "df_export.to_excel('premiers_flocons.xls', index=False)"
   ]
  }
 ],
 "metadata": {
  "kernelspec": {
   "display_name": "Python [Root]",
   "language": "python",
   "name": "Python [Root]"
  },
  "language_info": {
   "codemirror_mode": {
    "name": "ipython",
    "version": 3
   },
   "file_extension": ".py",
   "mimetype": "text/x-python",
   "name": "python",
   "nbconvert_exporter": "python",
   "pygments_lexer": "ipython3",
   "version": "3.5.2"
  }
 },
 "nbformat": 4,
 "nbformat_minor": 0
}
